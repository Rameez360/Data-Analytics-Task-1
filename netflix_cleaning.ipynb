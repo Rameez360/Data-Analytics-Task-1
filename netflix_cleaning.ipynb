{
 "cells": [
  {
   "cell_type": "markdown",
   "id": "e29c4c55-1475-4cfc-a491-d33d1c9eb1ae",
   "metadata": {},
   "source": [
    "# Netflix Dataset Cleaning – Task 1 (Data Analyst Internship)\n",
    "\n",
    "**Objective:** Clean and preprocess the Netflix Movies and TV Shows dataset by handling missing values, duplicates, inconsistent formatting, and column renaming.\n",
    "\n",
    "**Tools Used:** Python, Pandas\n"
   ]
  },
  {
   "cell_type": "code",
   "execution_count": 2,
   "id": "7fac55f4-a80e-4b53-8112-bbaf84df5380",
   "metadata": {},
   "outputs": [],
   "source": [
    "import pandas as pd"
   ]
  },
  {
   "cell_type": "code",
   "execution_count": 8,
   "id": "ec8e036a-ff0b-466b-9743-5bceaae232c3",
   "metadata": {},
   "outputs": [],
   "source": [
    "df = pd.read_csv('netflix_titles.csv')"
   ]
  },
  {
   "cell_type": "code",
   "execution_count": 9,
   "id": "e02ecc1e-a459-4551-a9c6-cd6c7e8ce285",
   "metadata": {},
   "outputs": [
    {
     "data": {
      "text/plain": [
       "<bound method NDFrame.head of      show_id     type                  title         director  \\\n",
       "0         s1    Movie   Dick Johnson Is Dead  Kirsten Johnson   \n",
       "1         s2  TV Show          Blood & Water              NaN   \n",
       "2         s3  TV Show              Ganglands  Julien Leclercq   \n",
       "3         s4  TV Show  Jailbirds New Orleans              NaN   \n",
       "4         s5  TV Show           Kota Factory              NaN   \n",
       "...      ...      ...                    ...              ...   \n",
       "8802   s8803    Movie                 Zodiac    David Fincher   \n",
       "8803   s8804  TV Show            Zombie Dumb              NaN   \n",
       "8804   s8805    Movie             Zombieland  Ruben Fleischer   \n",
       "8805   s8806    Movie                   Zoom     Peter Hewitt   \n",
       "8806   s8807    Movie                 Zubaan      Mozez Singh   \n",
       "\n",
       "                                                   cast        country  \\\n",
       "0                                                   NaN  United States   \n",
       "1     Ama Qamata, Khosi Ngema, Gail Mabalane, Thaban...   South Africa   \n",
       "2     Sami Bouajila, Tracy Gotoas, Samuel Jouy, Nabi...            NaN   \n",
       "3                                                   NaN            NaN   \n",
       "4     Mayur More, Jitendra Kumar, Ranjan Raj, Alam K...          India   \n",
       "...                                                 ...            ...   \n",
       "8802  Mark Ruffalo, Jake Gyllenhaal, Robert Downey J...  United States   \n",
       "8803                                                NaN            NaN   \n",
       "8804  Jesse Eisenberg, Woody Harrelson, Emma Stone, ...  United States   \n",
       "8805  Tim Allen, Courteney Cox, Chevy Chase, Kate Ma...  United States   \n",
       "8806  Vicky Kaushal, Sarah-Jane Dias, Raaghav Chanan...          India   \n",
       "\n",
       "              date_added  release_year rating   duration  \\\n",
       "0     September 25, 2021          2020  PG-13     90 min   \n",
       "1     September 24, 2021          2021  TV-MA  2 Seasons   \n",
       "2     September 24, 2021          2021  TV-MA   1 Season   \n",
       "3     September 24, 2021          2021  TV-MA   1 Season   \n",
       "4     September 24, 2021          2021  TV-MA  2 Seasons   \n",
       "...                  ...           ...    ...        ...   \n",
       "8802   November 20, 2019          2007      R    158 min   \n",
       "8803        July 1, 2019          2018  TV-Y7  2 Seasons   \n",
       "8804    November 1, 2019          2009      R     88 min   \n",
       "8805    January 11, 2020          2006     PG     88 min   \n",
       "8806       March 2, 2019          2015  TV-14    111 min   \n",
       "\n",
       "                                              listed_in  \\\n",
       "0                                         Documentaries   \n",
       "1       International TV Shows, TV Dramas, TV Mysteries   \n",
       "2     Crime TV Shows, International TV Shows, TV Act...   \n",
       "3                                Docuseries, Reality TV   \n",
       "4     International TV Shows, Romantic TV Shows, TV ...   \n",
       "...                                                 ...   \n",
       "8802                     Cult Movies, Dramas, Thrillers   \n",
       "8803             Kids' TV, Korean TV Shows, TV Comedies   \n",
       "8804                            Comedies, Horror Movies   \n",
       "8805                 Children & Family Movies, Comedies   \n",
       "8806     Dramas, International Movies, Music & Musicals   \n",
       "\n",
       "                                            description  \n",
       "0     As her father nears the end of his life, filmm...  \n",
       "1     After crossing paths at a party, a Cape Town t...  \n",
       "2     To protect his family from a powerful drug lor...  \n",
       "3     Feuds, flirtations and toilet talk go down amo...  \n",
       "4     In a city of coaching centers known to train I...  \n",
       "...                                                 ...  \n",
       "8802  A political cartoonist, a crime reporter and a...  \n",
       "8803  While living alone in a spooky town, a young g...  \n",
       "8804  Looking to survive in a world taken over by zo...  \n",
       "8805  Dragged from civilian life, a former superhero...  \n",
       "8806  A scrappy but poor boy worms his way into a ty...  \n",
       "\n",
       "[8807 rows x 12 columns]>"
      ]
     },
     "execution_count": 9,
     "metadata": {},
     "output_type": "execute_result"
    }
   ],
   "source": [
    "df.head"
   ]
  },
  {
   "cell_type": "code",
   "execution_count": 10,
   "id": "12206702-86d1-4a26-9a88-3984421b3b6a",
   "metadata": {},
   "outputs": [
    {
     "name": "stdout",
     "output_type": "stream",
     "text": [
      "Dataset shape: (8807, 12)\n",
      "\n",
      "Column names:\n",
      " ['show_id', 'type', 'title', 'director', 'cast', 'country', 'date_added', 'release_year', 'rating', 'duration', 'listed_in', 'description']\n",
      "<class 'pandas.core.frame.DataFrame'>\n",
      "RangeIndex: 8807 entries, 0 to 8806\n",
      "Data columns (total 12 columns):\n",
      " #   Column        Non-Null Count  Dtype \n",
      "---  ------        --------------  ----- \n",
      " 0   show_id       8807 non-null   object\n",
      " 1   type          8807 non-null   object\n",
      " 2   title         8807 non-null   object\n",
      " 3   director      6173 non-null   object\n",
      " 4   cast          7982 non-null   object\n",
      " 5   country       7976 non-null   object\n",
      " 6   date_added    8797 non-null   object\n",
      " 7   release_year  8807 non-null   int64 \n",
      " 8   rating        8803 non-null   object\n",
      " 9   duration      8804 non-null   object\n",
      " 10  listed_in     8807 non-null   object\n",
      " 11  description   8807 non-null   object\n",
      "dtypes: int64(1), object(11)\n",
      "memory usage: 825.8+ KB\n"
     ]
    }
   ],
   "source": [
    "# Basic shape and structure\n",
    "print(\"Dataset shape:\", df.shape)\n",
    "print(\"\\nColumn names:\\n\", df.columns.tolist())\n",
    "\n",
    "# Detailed column info\n",
    "df.info()"
   ]
  },
  {
   "cell_type": "code",
   "execution_count": 11,
   "id": "c9d21f3e-9631-45a4-95a4-b9b16d0c052e",
   "metadata": {},
   "outputs": [
    {
     "data": {
      "text/plain": [
       "director        2634\n",
       "country          831\n",
       "cast             825\n",
       "date_added        10\n",
       "rating             4\n",
       "duration           3\n",
       "show_id            0\n",
       "type               0\n",
       "title              0\n",
       "release_year       0\n",
       "listed_in          0\n",
       "description        0\n",
       "dtype: int64"
      ]
     },
     "execution_count": 11,
     "metadata": {},
     "output_type": "execute_result"
    }
   ],
   "source": [
    "df.isnull().sum().sort_values(ascending=False)"
   ]
  },
  {
   "cell_type": "code",
   "execution_count": 12,
   "id": "ae3a7089-40c7-4881-bae6-f22d74c53e8a",
   "metadata": {},
   "outputs": [],
   "source": [
    "df['director'] = df['director'].fillna('Not Specified')"
   ]
  },
  {
   "cell_type": "code",
   "execution_count": 13,
   "id": "30e90bfe-b880-49cb-b735-3cce8c8cd833",
   "metadata": {},
   "outputs": [
    {
     "data": {
      "text/plain": [
       "country         831\n",
       "cast            825\n",
       "date_added       10\n",
       "rating            4\n",
       "duration          3\n",
       "title             0\n",
       "type              0\n",
       "show_id           0\n",
       "director          0\n",
       "release_year      0\n",
       "listed_in         0\n",
       "description       0\n",
       "dtype: int64"
      ]
     },
     "execution_count": 13,
     "metadata": {},
     "output_type": "execute_result"
    }
   ],
   "source": [
    "df.isnull().sum().sort_values(ascending=False)"
   ]
  },
  {
   "cell_type": "code",
   "execution_count": 14,
   "id": "d769cb66-1521-4c9f-bd5d-b3a5dbf67c83",
   "metadata": {},
   "outputs": [],
   "source": [
    "df['cast'] = df['cast'].fillna('Unknown')\n"
   ]
  },
  {
   "cell_type": "code",
   "execution_count": 15,
   "id": "6139c242-2461-4246-9ff2-b29d474c4a1e",
   "metadata": {},
   "outputs": [],
   "source": [
    "df['country'] = df['country'].fillna('Unknown')\n"
   ]
  },
  {
   "cell_type": "code",
   "execution_count": 16,
   "id": "d1c9a6a3-f04e-4e14-91f3-08c0cf3805e5",
   "metadata": {},
   "outputs": [],
   "source": [
    "df['date_added'] = df['date_added'].fillna('Not Added')\n"
   ]
  },
  {
   "cell_type": "code",
   "execution_count": 17,
   "id": "2f656c79-c4be-4fec-b8a0-de11d09a8d79",
   "metadata": {},
   "outputs": [],
   "source": [
    "df['rating'] = df['rating'].fillna('Not Rated')\n"
   ]
  },
  {
   "cell_type": "code",
   "execution_count": 18,
   "id": "fe7563e8-b1bc-4fdb-859a-0e5073cde817",
   "metadata": {},
   "outputs": [],
   "source": [
    "df['duration'] = df['duration'].fillna('Unknown')\n"
   ]
  },
  {
   "cell_type": "code",
   "execution_count": 19,
   "id": "534e9d4d-6907-4a22-a256-d9c2d1311e07",
   "metadata": {},
   "outputs": [
    {
     "data": {
      "text/plain": [
       "show_id         0\n",
       "type            0\n",
       "title           0\n",
       "director        0\n",
       "cast            0\n",
       "country         0\n",
       "date_added      0\n",
       "release_year    0\n",
       "rating          0\n",
       "duration        0\n",
       "listed_in       0\n",
       "description     0\n",
       "dtype: int64"
      ]
     },
     "execution_count": 19,
     "metadata": {},
     "output_type": "execute_result"
    }
   ],
   "source": [
    "df.isnull().sum().sort_values(ascending=False)"
   ]
  },
  {
   "cell_type": "code",
   "execution_count": 20,
   "id": "35a1c6e6-b73a-4606-8c99-7ac08214d831",
   "metadata": {},
   "outputs": [
    {
     "name": "stdout",
     "output_type": "stream",
     "text": [
      "Duplicate rows: 0\n"
     ]
    }
   ],
   "source": [
    "# Check number of duplicate rows\n",
    "duplicates = df.duplicated().sum()\n",
    "print(f\"Duplicate rows: {duplicates}\")"
   ]
  },
  {
   "cell_type": "code",
   "execution_count": 21,
   "id": "15bedfa0-8216-4d74-b331-0d4d033a4416",
   "metadata": {},
   "outputs": [],
   "source": [
    "df['country'] = df['country'].str.strip().str.title()\n"
   ]
  },
  {
   "cell_type": "code",
   "execution_count": 22,
   "id": "6461fbaa-6eb5-4a14-92d5-591e8c2a752f",
   "metadata": {},
   "outputs": [],
   "source": [
    "df['rating'] = df['rating'].str.strip().str.upper()\n"
   ]
  },
  {
   "cell_type": "code",
   "execution_count": 23,
   "id": "4647f866-0c37-4f3a-b9db-43c90177bffb",
   "metadata": {},
   "outputs": [],
   "source": [
    "df['duration'] = df['duration'].str.strip()\n"
   ]
  },
  {
   "cell_type": "code",
   "execution_count": 24,
   "id": "e7b2fd8b-1158-4f8c-8f92-3f636eb631b0",
   "metadata": {},
   "outputs": [
    {
     "data": {
      "text/plain": [
       "array(['United States', 'South Africa', 'Unknown', 'India',\n",
       "       'United States, Ghana, Burkina Faso, United Kingdom, Germany, Ethiopia',\n",
       "       'United Kingdom', 'Germany, Czech Republic', 'Mexico', 'Turkey',\n",
       "       'Australia'], dtype=object)"
      ]
     },
     "execution_count": 24,
     "metadata": {},
     "output_type": "execute_result"
    }
   ],
   "source": [
    "df['country'].unique()[:10] "
   ]
  },
  {
   "cell_type": "code",
   "execution_count": 25,
   "id": "31a5bea2-ccc5-4da7-9652-ad228b9a3a2e",
   "metadata": {},
   "outputs": [],
   "source": [
    "df['date_added'] = df['date_added'].replace('Not Added', pd.NaT)"
   ]
  },
  {
   "cell_type": "code",
   "execution_count": 26,
   "id": "60e67c37-ba51-454e-8ed5-88e1091422cc",
   "metadata": {},
   "outputs": [],
   "source": [
    "df['date_added'] = pd.to_datetime(df['date_added'], errors='coerce')"
   ]
  },
  {
   "cell_type": "code",
   "execution_count": 27,
   "id": "edba88be-3da8-4c6c-8e27-c5cb5afe6ed9",
   "metadata": {},
   "outputs": [
    {
     "name": "stdout",
     "output_type": "stream",
     "text": [
      "datetime64[ns]\n"
     ]
    }
   ],
   "source": [
    "print(df['date_added'].dtype)\n"
   ]
  },
  {
   "cell_type": "code",
   "execution_count": 28,
   "id": "252bf374-ef04-4912-8b41-98026cccc56f",
   "metadata": {},
   "outputs": [
    {
     "data": {
      "text/plain": [
       "0   2021-09-25\n",
       "1   2021-09-24\n",
       "2   2021-09-24\n",
       "3   2021-09-24\n",
       "4   2021-09-24\n",
       "Name: date_added, dtype: datetime64[ns]"
      ]
     },
     "execution_count": 28,
     "metadata": {},
     "output_type": "execute_result"
    }
   ],
   "source": [
    "df['date_added'].head()\n"
   ]
  },
  {
   "cell_type": "code",
   "execution_count": 29,
   "id": "ce2d5e58-ce00-4da6-89aa-e454db2fadfb",
   "metadata": {},
   "outputs": [
    {
     "name": "stdout",
     "output_type": "stream",
     "text": [
      "['show_id', 'type', 'title', 'director', 'cast', 'country', 'date_added', 'release_year', 'rating', 'duration', 'listed_in', 'description']\n"
     ]
    }
   ],
   "source": [
    "df.columns = df.columns.str.strip().str.lower().str.replace(' ', '_')\n",
    "print(df.columns.tolist())"
   ]
  },
  {
   "cell_type": "code",
   "execution_count": 30,
   "id": "acc96ca6-3366-4a45-b295-3659349e14b7",
   "metadata": {},
   "outputs": [
    {
     "data": {
      "text/plain": [
       "show_id                 object\n",
       "type                    object\n",
       "title                   object\n",
       "director                object\n",
       "cast                    object\n",
       "country                 object\n",
       "date_added      datetime64[ns]\n",
       "release_year             int64\n",
       "rating                  object\n",
       "duration                object\n",
       "listed_in               object\n",
       "description             object\n",
       "dtype: object"
      ]
     },
     "execution_count": 30,
     "metadata": {},
     "output_type": "execute_result"
    }
   ],
   "source": [
    "df.dtypes"
   ]
  },
  {
   "cell_type": "code",
   "execution_count": 31,
   "id": "de27447f-5693-4021-abf7-fff9bd182db8",
   "metadata": {},
   "outputs": [
    {
     "name": "stdout",
     "output_type": "stream",
     "text": [
      "✅ Cleaned dataset saved as 'netflix_cleaned.csv'\n"
     ]
    }
   ],
   "source": [
    "df.to_csv(\"netflix_cleaned.csv\", index=False)\n",
    "print(\"✅ Cleaned dataset saved as 'netflix_cleaned.csv'\")"
   ]
  },
  {
   "cell_type": "code",
   "execution_count": null,
   "id": "66cf482e-8ae8-4759-988a-d3d3d6ce5c32",
   "metadata": {},
   "outputs": [],
   "source": []
  }
 ],
 "metadata": {
  "kernelspec": {
   "display_name": "Python 3 (ipykernel)",
   "language": "python",
   "name": "python3"
  },
  "language_info": {
   "codemirror_mode": {
    "name": "ipython",
    "version": 3
   },
   "file_extension": ".py",
   "mimetype": "text/x-python",
   "name": "python",
   "nbconvert_exporter": "python",
   "pygments_lexer": "ipython3",
   "version": "3.10.0"
  }
 },
 "nbformat": 4,
 "nbformat_minor": 5
}
